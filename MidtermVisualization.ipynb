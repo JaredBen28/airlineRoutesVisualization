{
 "cells": [
  {
   "cell_type": "code",
   "execution_count": null,
   "id": "edd861c5",
   "metadata": {},
   "outputs": [],
   "source": [
    "import pandas as pd\n",
    "import numpy as np\n",
    "import matplotlib.pyplot as plt\n",
    "pd.options.mode.chained_assignment = None  # default='warn'\n",
    "from sklearn.metrics import r2_score"
   ]
  },
  {
   "cell_type": "code",
   "execution_count": null,
   "id": "0da9f578",
   "metadata": {},
   "outputs": [],
   "source": [
    "# Helper functions for data cleaning\n",
    "\n",
    "def diff(a, b):\n",
    "    return a - b\n",
    "\n",
    "def drop_col(df):\n",
    "    return df.drop([\n",
    "        'OP_CARRIER_FL_NUM', 'TAXI_OUT', 'WHEELS_OFF', 'WHEELS_ON', 'TAXI_IN', \n",
    "        'CANCELLATION_CODE', 'DISTANCE', 'CARRIER_DELAY','WEATHER_DELAY', \n",
    "        'NAS_DELAY', 'SECURITY_DELAY', 'LATE_AIRCRAFT_DELAY','Unnamed: 27'\n",
    "    ], axis=1)\n",
    "\n",
    "def remove_na(df):\n",
    "    return df[df['ACTUAL_ELAPSED_TIME'].notna()]\n",
    "\n",
    "def total_delay(df):\n",
    "    df['TOTAL_DELAY'] = df.apply(lambda x: diff(x['ACTUAL_ELAPSED_TIME'], x['CRS_ELAPSED_TIME']), axis=1)\n",
    "    return df\n",
    "\n",
    "def to_dt(df):\n",
    "    df[\"FL_DATE\"] = pd.to_datetime(df[\"FL_DATE\"])\n",
    "    return df\n",
    "\n",
    "def to_days(df):\n",
    "    df[\"FL_DATE_DAYS\"] = df['FL_DATE'].dt.dayofyear\n",
    "    return df\n",
    "\n",
    "# run on year files which are a leap year\n",
    "def clean_leapyear_data(df):\n",
    "    df = drop_col(df)\n",
    "    df = remove_na(df)\n",
    "    df = total_delay(df)\n",
    "    df = to_dt(df)\n",
    "    df = df[(df.FL_DATE.dt.month != 2) | (df.FL_DATE.dt.day != 29)]\n",
    "    df.FL_DATE = df.FL_DATE.apply(lambda x: x.replace(year = x.year - 1))\n",
    "    df = to_days(df)\n",
    "    return df\n",
    "\n",
    "# run on all other files\n",
    "def clean_data(df):\n",
    "    df = drop_col(df)\n",
    "    df = remove_na(df)\n",
    "    df = total_delay(df)\n",
    "    df = to_dt(df)\n",
    "    df = to_days(df)\n",
    "    return df"
   ]
  },
  {
   "cell_type": "code",
   "execution_count": null,
   "id": "ef3d7186",
   "metadata": {
    "scrolled": false
   },
   "outputs": [],
   "source": [
    "# Import Data sets\n",
    "df09 = pd.read_csv(\"./df09.csv\")\n",
    "df10 = pd.read_csv(\"./df10.csv\")\n",
    "df11 = pd.read_csv(\"./df11.csv\")\n",
    "df12 = pd.read_csv(\"./df12.csv\")\n",
    "df13 = pd.read_csv(\"./df13.csv\")\n",
    "df14 = pd.read_csv(\"./df14.csv\")\n",
    "df15 = pd.read_csv(\"./df15.csv\")\n",
    "df16 = pd.read_csv(\"./df16.csv\")\n",
    "df17 = pd.read_csv(\"./df17.csv\")\n",
    "df18 = pd.read_csv(\"./df18.csv\")"
   ]
  },
  {
   "cell_type": "code",
   "execution_count": null,
   "id": "e2230b03",
   "metadata": {},
   "outputs": [],
   "source": [
    "df = pd.concat([df09, df10, df11, df12, df13, df14, df15, df16, df17, df18], axis=0, ignore_index=True)\n",
    "df6 = df[df.OP_CARRIER.isin(['WN', 'DL', 'AA', 'UA'])]"
   ]
  },
  {
   "cell_type": "markdown",
   "id": "de584d87",
   "metadata": {},
   "source": [
    "### Airline Codes for Top 4 Airlines in the US\n",
    "* WN -- Southwest \n",
    "* DL -- Delta\n",
    "* AA -- American \n",
    "* UA -- United"
   ]
  },
  {
   "cell_type": "code",
   "execution_count": null,
   "id": "e5db78eb",
   "metadata": {},
   "outputs": [],
   "source": [
    "dfWN = df6.loc[df.OP_CARRIER.isin(['WN'])]\n",
    "dfDL = df6.loc[df.OP_CARRIER.isin(['DL'])]\n",
    "dfAA = df6.loc[df.OP_CARRIER.isin(['AA'])]\n",
    "dfUA = df6.loc[df.OP_CARRIER.isin(['UA'])]"
   ]
  },
  {
   "cell_type": "code",
   "execution_count": null,
   "id": "d46e2435",
   "metadata": {},
   "outputs": [],
   "source": [
    "airlines = {\n",
    "    \"Southwest\" : dfWN,\n",
    "    \"Delta\" : dfDL,\n",
    "    \"Amerian\" : dfAA,\n",
    "    \"United\" : dfUA\n",
    "}\n",
    "\n",
    "def flightStats(df, delay, day):\n",
    "    flights = df.loc[df.FL_DATE_DAYS == day].TOTAL_DELAY\n",
    "    totalFlights = flights.count()\n",
    "    \n",
    "    delayed = flights.loc[(df.TOTAL_DELAY >= delay)]\n",
    "    totalDelay = delayed.count()\n",
    "    \n",
    "    percentage = 100*(totalDelay/totalFlights) \n",
    "    \n",
    "    delayMean = delayed.mean()\n",
    "    delayMedian = delayed.median()\n",
    "    return delayMean, delayMedian, percentage, totalDelay, totalFlights\n",
    "\n",
    "def createRow(airline, delay, day):\n",
    "    row = []\n",
    "    row.append(airline)\n",
    "    row.append(delay)\n",
    "    row.append(day)\n",
    "    a, b, c, d, e = flightStats(airlines[row[0]], row[1], row[2])\n",
    "    row.append(a)\n",
    "    row.append(b)\n",
    "    row.append(c)\n",
    "    row.append(d)\n",
    "    row.append(e)\n",
    "    return row"
   ]
  },
  {
   "cell_type": "code",
   "execution_count": null,
   "id": "eeecc136",
   "metadata": {
    "scrolled": false
   },
   "outputs": [],
   "source": [
    "delay = 0\n",
    "\n",
    "dfS = pd.DataFrame(\n",
    "    columns = [\"Airline\", \"Delay\", \"Day\", \"Mean\", \"Median\", \n",
    "               \"Percentage\", \"TotalDelay\", \"TotalFlights\"])\n",
    "for day in range(1, 366):\n",
    "    for airline in airlines:\n",
    "        dfS.loc[len(dfS)] = createRow(airline, delay, day)\n",
    "groups = dfS.groupby('Airline')"
   ]
  },
  {
   "cell_type": "code",
   "execution_count": null,
   "id": "6fb44812",
   "metadata": {},
   "outputs": [],
   "source": [
    "month_starts = [1,32,61,92,122,153,183,214,245,275,306,336,365]\n",
    "month_names = ['Jan','Feb','Mar','Apr','May','Jun',\n",
    "               'Jul','Aug','Sep','Oct','Nov','Dec','End'] \n",
    "colors = {\n",
    "    \"Amerian\" : '#B41FFF',\n",
    "    \"Delta\" : '#CE96A6',\n",
    "    \"Southwest\" : '#65C819',\n",
    "    \"United\" : '#D33643'\n",
    "}\n",
    "text = \"The lines are a generalization of the data\""
   ]
  },
  {
   "cell_type": "code",
   "execution_count": null,
   "id": "56151f7b",
   "metadata": {
    "scrolled": false
   },
   "outputs": [],
   "source": [
    "myline = np.linspace(1, 365, 365)\n",
    "plt.rcParams[\"figure.figsize\"] = (16,12)\n",
    "\n",
    "for name, group in groups:\n",
    "    model = np.poly1d(np.polyfit(group.Day, group.Mean, 5))\n",
    "    \n",
    "    plt.scatter(group.Day, group.Mean, s=group.Percentage*2.25, marker='.', facecolors=colors[name], alpha=.5)\n",
    "    plt.plot(myline, model(myline), linewidth=2, c=colors[name], label=name, alpha=1)\n",
    "    \n",
    "plt.title(label=\"Mean Delay of the top 4 Major US Airlines per Day\", fontsize=30, loc='left')\n",
    "plt.xlabel('Day of the year', fontsize=20)\n",
    "plt.ylabel('Mean Delay in Min', fontsize=20)\n",
    "plt.text(-15, 17, text, ha='left', wrap=True, fontsize=14)\n",
    "\n",
    "plt.xticks(month_starts, month_names, rotation=20, fontsize=14)\n",
    "plt.yticks(fontsize=14)\n",
    "plt.gca().xaxis.grid(True, linestyle=(5, (10, 3)), linewidth=1)\n",
    "plt.legend(prop={'size': 16}, loc='upper right')"
   ]
  },
  {
   "cell_type": "code",
   "execution_count": null,
   "id": "bd95311c",
   "metadata": {},
   "outputs": [],
   "source": []
  }
 ],
 "metadata": {
  "kernelspec": {
   "display_name": "Python 3 (ipykernel)",
   "language": "python",
   "name": "python3"
  },
  "language_info": {
   "codemirror_mode": {
    "name": "ipython",
    "version": 3
   },
   "file_extension": ".py",
   "mimetype": "text/x-python",
   "name": "python",
   "nbconvert_exporter": "python",
   "pygments_lexer": "ipython3",
   "version": "3.11.0"
  }
 },
 "nbformat": 4,
 "nbformat_minor": 5
}
