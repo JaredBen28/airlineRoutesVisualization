{
 "cells": [
  {
   "cell_type": "code",
   "execution_count": null,
   "id": "edd861c5",
   "metadata": {},
   "outputs": [],
   "source": [
    "import pandas as pd\n",
    "import numpy as np\n",
    "import matplotlib.pyplot as plt\n",
    "pd.options.mode.chained_assignment = None  # default='warn'\n",
    "from sklearn.metrics import r2_score"
   ]
  },
  {
   "cell_type": "code",
   "execution_count": null,
   "id": "0da9f578",
   "metadata": {},
   "outputs": [],
   "source": [
    "# Helper functions for data cleaning\n",
    "\n",
    "def diff(a, b):\n",
    "    return a - b\n",
    "\n",
    "def drop_col(df):\n",
    "    return df.drop([\n",
    "        'OP_CARRIER_FL_NUM', 'TAXI_OUT', 'WHEELS_OFF', 'WHEELS_ON', 'TAXI_IN', \n",
    "        'CANCELLATION_CODE', 'DISTANCE', 'CARRIER_DELAY','WEATHER_DELAY', \n",
    "        'NAS_DELAY', 'SECURITY_DELAY', 'LATE_AIRCRAFT_DELAY','Unnamed: 27'\n",
    "    ], axis=1)\n",
    "\n",
    "def remove_na(df):\n",
    "    return df[df['ACTUAL_ELAPSED_TIME'].notna()]\n",
    "\n",
    "def total_delay(df):\n",
    "    df['TOTAL_DELAY'] = df.apply(lambda x: diff(x['ACTUAL_ELAPSED_TIME'], x['CRS_ELAPSED_TIME']), axis=1)\n",
    "    return df\n",
    "\n",
    "def to_dt(df):\n",
    "    df[\"FL_DATE\"] = pd.to_datetime(df[\"FL_DATE\"])\n",
    "    return df\n",
    "\n",
    "def to_days(df):\n",
    "    df[\"FL_DATE_DAYS\"] = df['FL_DATE'].dt.dayofyear\n",
    "    return df\n",
    "\n",
    "# run on year files which are a leap year\n",
    "def clean_leapyear_data(df):\n",
    "    df = drop_col(df)\n",
    "    df = remove_na(df)\n",
    "    df = total_delay(df)\n",
    "    df = to_dt(df)\n",
    "    df = df[(df.FL_DATE.dt.month != 2) | (df.FL_DATE.dt.day != 29)]\n",
    "    df.FL_DATE = df.FL_DATE.apply(lambda x: x.replace(year = x.year - 1))\n",
    "    df = to_days(df)\n",
    "    return df\n",
    "\n",
    "# run on all other files\n",
    "def clean_data(df):\n",
    "    df = drop_col(df)\n",
    "    df = remove_na(df)\n",
    "    df = total_delay(df)\n",
    "    df = to_dt(df)\n",
    "    df = to_days(df)\n",
    "    return df"
   ]
  },
  {
   "cell_type": "code",
   "execution_count": null,
   "id": "ef3d7186",
   "metadata": {
    "scrolled": false
   },
   "outputs": [],
   "source": [
    "# Import Data sets\n",
    "df09 = pd.read_csv(\"./df09.csv\")\n",
    "df10 = pd.read_csv(\"./df10.csv\")\n",
    "df11 = pd.read_csv(\"./df11.csv\")\n",
    "df12 = pd.read_csv(\"./df12.csv\")\n",
    "df13 = pd.read_csv(\"./df13.csv\")\n",
    "df14 = pd.read_csv(\"./df14.csv\")\n",
    "df15 = pd.read_csv(\"./df15.csv\")\n",
    "df16 = pd.read_csv(\"./df16.csv\")\n",
    "df17 = pd.read_csv(\"./df17.csv\")\n",
    "df18 = pd.read_csv(\"./df18.csv\")"
   ]
  },
  {
   "cell_type": "code",
   "execution_count": null,
   "id": "e2230b03",
   "metadata": {},
   "outputs": [],
   "source": [
    "df = pd.concat([df09, df10, df11, df12, df13, df14, df15, df16, df17, df18], axis=0, ignore_index=True)\n",
    "df6 = df[df.OP_CARRIER.isin(['WN', 'DL', 'AA', 'UA'])]"
   ]
  },
  {
   "cell_type": "code",
   "execution_count": null,
   "id": "e5db78eb",
   "metadata": {},
   "outputs": [],
   "source": [
    "dfWN = df6.loc[df.OP_CARRIER.isin(['WN'])]\n",
    "dfDL = df6.loc[df.OP_CARRIER.isin(['DL'])]\n",
    "dfAA = df6.loc[df.OP_CARRIER.isin(['AA'])]\n",
    "dfUA = df6.loc[df.OP_CARRIER.isin(['UA'])]"
   ]
  }
 ],
 "metadata": {
  "kernelspec": {
   "display_name": "Python 3 (ipykernel)",
   "language": "python",
   "name": "python3"
  },
  "language_info": {
   "codemirror_mode": {
    "name": "ipython",
    "version": 3
   },
   "file_extension": ".py",
   "mimetype": "text/x-python",
   "name": "python",
   "nbconvert_exporter": "python",
   "pygments_lexer": "ipython3",
   "version": "3.11.0"
  }
 },
 "nbformat": 4,
 "nbformat_minor": 5
}
